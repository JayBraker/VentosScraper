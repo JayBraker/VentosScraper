{
 "cells": [
  {
   "cell_type": "markdown",
   "metadata": {},
   "source": [
    "Imports"
   ]
  },
  {
   "cell_type": "code",
   "execution_count": 1,
   "metadata": {},
   "outputs": [],
   "source": [
    "from bs4 import BeautifulSoup\n",
    "from requests import Session\n",
    "from tqdm import tqdm\n",
    "import pandas as pd"
   ]
  },
  {
   "cell_type": "code",
   "execution_count": 4,
   "metadata": {},
   "outputs": [],
   "source": [
    "import settings\n",
    "BASE_URL = \"https://www.ventos.com/en/products/product-catalogue\""
   ]
  },
  {
   "cell_type": "code",
   "execution_count": 5,
   "metadata": {},
   "outputs": [],
   "source": [
    "def get_page(count: int, offset: int = 0):\n",
    "    resp = sess.get(f\"{BASE_URL}\", params={\"limit1\": count, \"limitstart1\": offset})\n",
    "    print(resp.request.url)\n",
    "    print(resp.status_code)\n",
    "    resp.raise_for_status()\n",
    "    return resp"
   ]
  },
  {
   "cell_type": "code",
   "execution_count": 6,
   "metadata": {},
   "outputs": [],
   "source": [
    "def get_detail_page(url: str)->dict:\n",
    "    chem = {}\n",
    "    resp = sess.get(url)\n",
    "    if resp.ok:\n",
    "        soup = BeautifulSoup(resp.content, features=\"html.parser\")\n",
    "        info_body = soup.find(\"div\", class_=\"evsa-textes\")\n",
    "        tech = info_body.find(\"div\", class_=\"evsa-textes-specs\")\n",
    "        specs = info_body.find(\"div\", class_=\"evsa-textes-especificacions\")\n",
    "        \n",
    "        for row in tech.find_all(\"div\", class_=\"row\"):\n",
    "            chem[row.find(\"div\", class_=\"evsa-ls-label\").text.strip()] = row.find(\"div\", class_=\"evsa-ls-field\").text.strip()\n",
    "        for row in specs.find_all(\"div\", class_=\"row\"):\n",
    "            chem[row.find(\"div\", class_=\"evsa-ls-label\").text.strip()] = row.find(\"div\", class_=\"evsa-ls-field\").text.strip()\n",
    "    else:\n",
    "        print(f\"Requested URL {url}, response was not OK: {resp.status_code}\")\n",
    "    return chem"
   ]
  },
  {
   "cell_type": "markdown",
   "metadata": {},
   "source": [
    "Session setup"
   ]
  },
  {
   "cell_type": "code",
   "execution_count": 7,
   "metadata": {},
   "outputs": [],
   "source": [
    "sess = Session()"
   ]
  },
  {
   "cell_type": "markdown",
   "metadata": {},
   "source": [
    "Fetch pages"
   ]
  },
  {
   "cell_type": "code",
   "execution_count": null,
   "metadata": {},
   "outputs": [],
   "source": [
    "chems = []\n",
    "offset = 2000\n",
    "steps = 300\n",
    "while(True):\n",
    "    print(f\"Requesting {steps} items from catalog for Offset {offset}\")\n",
    "    page = get_page(steps, offset)\n",
    "    soup = BeautifulSoup(page.content, features=\"html.parser\")\n",
    "    offset += steps\n",
    "    chem_list = soup.find_all(\"li\", class_=\"evsa-ls-element\")\n",
    "    if len(chem_list) < 2:\n",
    "        break\n",
    "    for chem_body in chem_list:\n",
    "        chem = {}\n",
    "        chem[settings.name] = \"\"\n",
    "        if chem_body.find(class_=\"evsa-ls-name\"):\n",
    "            chem[settings.name] = chem_body.find(class_=\"evsa-ls-name\").a.text # h3 enclosing a/href\n",
    "        else:\n",
    "            print(\"Could not find HTML tag 'evsa-ls-name'\")\n",
    "        \n",
    "        fields = chem_body.find(class_=\"evsa-ls-fields\")\n",
    "        if fields:\n",
    "            for field in fields.find_all(class_=\"evsa-ls-label\"):\n",
    "                chem[field.text.strip().lower().split(\":\")[0]] = field.nextSibling.text\n",
    "        tech_info = chem_body.find(\"a\", string = \"TECHNICAL DATA\")\n",
    "\n",
    "        chem[settings.tech] = tech_info.get(\"href\") if tech_info else None\n",
    "        chem[settings.manufactur_id] = chem[settings.tech].split(\"/\")[-2] if chem[settings.tech] else None\n",
    "        chem[settings.kosher] = True if chem_body.find(\"a\", string = \"KOSHER\") else False\n",
    "        chems.append(chem)"
   ]
  },
  {
   "cell_type": "code",
   "execution_count": null,
   "metadata": {},
   "outputs": [],
   "source": [
    "for chem in tqdm(chems):\n",
    "    chem.update(get_detail_page(chem[settings.tech]))"
   ]
  },
  {
   "cell_type": "code",
   "execution_count": 14,
   "metadata": {},
   "outputs": [],
   "source": [
    "data_frame = pd.DataFrame(chems)\n",
    "data_frame.sort_values(by=['manufactur_id'])\n",
    "data_frame.to_csv('./out/chems.csv', index = False, sep=';')"
   ]
  }
 ],
 "metadata": {
  "interpreter": {
   "hash": "3bc965951b1cc5b0cf765a61762f414c1f5bcd176924ea890392d79fab47eca3"
  },
  "kernelspec": {
   "display_name": "Python 3.10.2 64-bit",
   "language": "python",
   "name": "python3"
  },
  "language_info": {
   "codemirror_mode": {
    "name": "ipython",
    "version": 3
   },
   "file_extension": ".py",
   "mimetype": "text/x-python",
   "name": "python",
   "nbconvert_exporter": "python",
   "pygments_lexer": "ipython3",
   "version": "3.10.1"
  },
  "orig_nbformat": 4
 },
 "nbformat": 4,
 "nbformat_minor": 2
}
